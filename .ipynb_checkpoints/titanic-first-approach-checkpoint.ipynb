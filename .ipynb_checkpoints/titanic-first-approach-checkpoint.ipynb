{
 "cells": [
  {
   "cell_type": "code",
   "execution_count": 1,
   "id": "e303afba",
   "metadata": {
    "_cell_guid": "b1076dfc-b9ad-4769-8c92-a6c4dae69d19",
    "_uuid": "8f2839f25d086af736a60e9eeb907d3b93b6e0e5",
    "execution": {
     "iopub.execute_input": "2022-12-02T10:50:42.872336Z",
     "iopub.status.busy": "2022-12-02T10:50:42.871685Z",
     "iopub.status.idle": "2022-12-02T10:50:42.889230Z",
     "shell.execute_reply": "2022-12-02T10:50:42.887787Z"
    },
    "papermill": {
     "duration": 0.025527,
     "end_time": "2022-12-02T10:50:42.891809",
     "exception": false,
     "start_time": "2022-12-02T10:50:42.866282",
     "status": "completed"
    },
    "tags": []
   },
   "outputs": [
    {
     "name": "stdout",
     "output_type": "stream",
     "text": [
      "/kaggle/input/titanic/train.csv\n",
      "/kaggle/input/titanic/test.csv\n",
      "/kaggle/input/titanic/gender_submission.csv\n"
     ]
    }
   ],
   "source": [
    "# This Python 3 environment comes with many helpful analytics libraries installed\n",
    "# It is defined by the kaggle/python Docker image: https://github.com/kaggle/docker-python\n",
    "# For example, here's several helpful packages to load\n",
    "\n",
    "import numpy as np # linear algebra\n",
    "import pandas as pd # data processing, CSV file I/O (e.g. pd.read_csv)\n",
    "\n",
    "# Input data files are available in the read-only \"../input/\" directory\n",
    "# For example, running this (by clicking run or pressing Shift+Enter) will list all files under the input directory\n",
    "\n",
    "import os\n",
    "for dirname, _, filenames in os.walk('/kaggle/input'):\n",
    "    for filename in filenames:\n",
    "        print(os.path.join(dirname, filename))\n",
    "\n",
    "# You can write up to 20GB to the current directory (/kaggle/working/) that gets preserved as output when you create a version using \"Save & Run All\" \n",
    "# You can also write temporary files to /kaggle/temp/, but they won't be saved outside of the current session"
   ]
  },
  {
   "cell_type": "code",
   "execution_count": 2,
   "id": "3341b552",
   "metadata": {
    "execution": {
     "iopub.execute_input": "2022-12-02T10:50:42.900415Z",
     "iopub.status.busy": "2022-12-02T10:50:42.899413Z",
     "iopub.status.idle": "2022-12-02T10:50:42.938105Z",
     "shell.execute_reply": "2022-12-02T10:50:42.936763Z"
    },
    "papermill": {
     "duration": 0.045794,
     "end_time": "2022-12-02T10:50:42.941263",
     "exception": false,
     "start_time": "2022-12-02T10:50:42.895469",
     "status": "completed"
    },
    "tags": []
   },
   "outputs": [],
   "source": [
    "train = pd.read_csv(\"/kaggle/input/titanic/train.csv\")\n",
    "test = pd.read_csv(\"/kaggle/input/titanic/test.csv\")\n",
    "gender_submission = pd.read_csv(\"/kaggle/input/titanic/gender_submission.csv\")\n"
   ]
  },
  {
   "cell_type": "code",
   "execution_count": 3,
   "id": "19868b0c",
   "metadata": {
    "execution": {
     "iopub.execute_input": "2022-12-02T10:50:42.950624Z",
     "iopub.status.busy": "2022-12-02T10:50:42.950202Z",
     "iopub.status.idle": "2022-12-02T10:50:42.973139Z",
     "shell.execute_reply": "2022-12-02T10:50:42.971866Z"
    },
    "papermill": {
     "duration": 0.031479,
     "end_time": "2022-12-02T10:50:42.976158",
     "exception": false,
     "start_time": "2022-12-02T10:50:42.944679",
     "status": "completed"
    },
    "tags": []
   },
   "outputs": [
    {
     "name": "stdout",
     "output_type": "stream",
     "text": [
      "% of women who survived: 0.7420382165605095\n"
     ]
    }
   ],
   "source": [
    "women = train.loc[train.Sex == 'female'][\"Survived\"]\n",
    "rate_women = sum(women)/len(women)\n",
    "\n",
    "print(\"% of women who survived:\", rate_women)"
   ]
  },
  {
   "cell_type": "code",
   "execution_count": 4,
   "id": "5e642d81",
   "metadata": {
    "execution": {
     "iopub.execute_input": "2022-12-02T10:50:42.983040Z",
     "iopub.status.busy": "2022-12-02T10:50:42.982594Z",
     "iopub.status.idle": "2022-12-02T10:50:42.994966Z",
     "shell.execute_reply": "2022-12-02T10:50:42.992956Z"
    },
    "papermill": {
     "duration": 0.019466,
     "end_time": "2022-12-02T10:50:42.998213",
     "exception": false,
     "start_time": "2022-12-02T10:50:42.978747",
     "status": "completed"
    },
    "tags": []
   },
   "outputs": [
    {
     "name": "stdout",
     "output_type": "stream",
     "text": [
      "% of men who survived: 0.18890814558058924\n"
     ]
    }
   ],
   "source": [
    "men = train.loc[train.Sex == 'male'][\"Survived\"]\n",
    "rate_men = sum(men)/len(men)\n",
    "\n",
    "print(\"% of men who survived:\", rate_men)"
   ]
  },
  {
   "cell_type": "code",
   "execution_count": 5,
   "id": "d4f8b9e4",
   "metadata": {
    "execution": {
     "iopub.execute_input": "2022-12-02T10:50:43.005569Z",
     "iopub.status.busy": "2022-12-02T10:50:43.005165Z",
     "iopub.status.idle": "2022-12-02T10:50:44.452836Z",
     "shell.execute_reply": "2022-12-02T10:50:44.451153Z"
    },
    "papermill": {
     "duration": 1.455044,
     "end_time": "2022-12-02T10:50:44.456066",
     "exception": false,
     "start_time": "2022-12-02T10:50:43.001022",
     "status": "completed"
    },
    "tags": []
   },
   "outputs": [
    {
     "name": "stdout",
     "output_type": "stream",
     "text": [
      "Your submission was successfully saved!\n"
     ]
    }
   ],
   "source": [
    "from sklearn.tree import DecisionTreeClassifier\n",
    "\n",
    "y = train[\"Survived\"]\n",
    "\n",
    "features = [\"Pclass\", \"Sex\", \"SibSp\", \"Parch\"]\n",
    "X = pd.get_dummies(train[features])\n",
    "X_test = pd.get_dummies(test[features])\n",
    "\n",
    "model = DecisionTreeClassifier(max_depth=4)\n",
    "model.fit(X, y)\n",
    "predictions = model.predict(X_test)\n",
    "\n",
    "output = pd.DataFrame({'PassengerId': test.PassengerId, 'Survived': predictions})\n",
    "output.to_csv('submission.csv', index=False)\n",
    "print(\"Your submission was successfully saved!\")\n",
    "\n",
    "# 0.77751"
   ]
  }
 ],
 "metadata": {
  "kernelspec": {
   "display_name": "Python 3 (ipykernel)",
   "language": "python",
   "name": "python3"
  },
  "language_info": {
   "codemirror_mode": {
    "name": "ipython",
    "version": 3
   },
   "file_extension": ".py",
   "mimetype": "text/x-python",
   "name": "python",
   "nbconvert_exporter": "python",
   "pygments_lexer": "ipython3",
   "version": "3.9.7"
  },
  "papermill": {
   "default_parameters": {},
   "duration": 11.351842,
   "end_time": "2022-12-02T10:50:45.281282",
   "environment_variables": {},
   "exception": null,
   "input_path": "__notebook__.ipynb",
   "output_path": "__notebook__.ipynb",
   "parameters": {},
   "start_time": "2022-12-02T10:50:33.929440",
   "version": "2.3.4"
  }
 },
 "nbformat": 4,
 "nbformat_minor": 5
}
